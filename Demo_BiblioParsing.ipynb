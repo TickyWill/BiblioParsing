{
 "cells": [
  {
   "cell_type": "markdown",
   "id": "346cb308-2424-4970-87ca-b51484213781",
   "metadata": {},
   "source": [
    "# Pip install pour ce jupyter à la construction du venv\n",
    "- pip install ipykernel==6.28.0\n",
    "- pip install XlsxWriter==3.1.9\n",
    "\n",
    "Reconstruire le kernel \n",
    "- python -m ipykernel install --user --name=BiblioParsing_ker\n"
   ]
  },
  {
   "cell_type": "code",
   "execution_count": null,
   "id": "0fef6123-1e5c-4c76-8ba6-a4f2d53917b5",
   "metadata": {},
   "outputs": [],
   "source": [
    "# Getting the working folder  \n",
    "# as set in the json file \"~\\Appdata\\Roaming\\BiblioParsing\\BiblioParsing_config.json\" \n",
    "\n",
    "# Local library imports\n",
    "import BiblioParsing as bp\n",
    "\n",
    "# Getting the working folder architecture\n",
    "parsing_folder_dict = bp.DEMO_GLOBAL['PARSING_FOLDER_ARCHI']\n",
    "\n",
    "# Setting the working folder name \n",
    "working_folder_name = parsing_folder_dict['folder_root']\n",
    "print(f\"\\nWorking folder name: {working_folder_name}\") \n"
   ]
  },
  {
   "cell_type": "code",
   "execution_count": null,
   "id": "06f2978a-1c90-40bb-844e-4dc5b6a402cb",
   "metadata": {},
   "outputs": [],
   "source": [
    "# Example of building the architecture of the working folder in the user's path home,\n",
    "# and getting useful paths for demo as described in the json file:\n",
    "#   \"~\\Appdata\\Roaming\\BiblioParsing\\BiblioParsing_config.json\"\n",
    "# This check if the conbfiguration file is correctly filled. \n",
    "\n",
    "# Standard library imports\n",
    "from pathlib import Path\n",
    "\n",
    "# Local library imports\n",
    "import BiblioParsing as bp\n",
    "\n",
    "# Getting the working folder architecture\n",
    "parsing_folder_dict = bp.DEMO_GLOBAL['PARSING_FOLDER_ARCHI']\n",
    "\n",
    "# Setting the corpus year\n",
    "year = \"2021\"\n",
    "\n",
    "# Setting useful paths for demo\n",
    "root_path = Path.home()\n",
    "\n",
    "# Building the working folder architecture and getting useful paths\n",
    "rawdata_path_dict, parsing_path_dict, db_dict = bp.build_files_paths(year, parsing_folder_dict, root_path)\n",
    "\n",
    "if (bp.SCOPUS in db_dict.values()) and (bp.WOS in db_dict.values()):\n",
    "    scopus_raw_path     = rawdata_path_dict[bp.SCOPUS]\n",
    "    scopus_parsing_path = parsing_path_dict[bp.SCOPUS]\n",
    "    print(f\"\\nPut the 'csv' file extracted from the Scopus database in:\\n   {scopus_raw_path}\")\n",
    "    print(f\"\\nThe parsing results for the Scopus rawdata will be saved in:\\n   {scopus_parsing_path}\")\n",
    "    \n",
    "    wos_raw_path     = rawdata_path_dict[bp.WOS]\n",
    "    wos_parsing_path = parsing_path_dict[bp.WOS]\n",
    "    print(f\"\\nPut the 'txt' file extracted from the WoS database in:\\n   {wos_raw_path}\")\n",
    "    print(f\"\\nThe parsing results for the WoS rawdata will be saved in:\\n   {wos_parsing_path}\")\n",
    "\n",
    "    concat_parsing_path = parsing_path_dict['concat']\n",
    "    print(f\"\\nThe concatenated parsing results will be saved in:\\n   {concat_parsing_path}\")\n",
    "\n",
    "    dedup_parsing_path = parsing_path_dict['dedup']\n",
    "    print(f\"\\nThe deduplicated parsing results will be saved in:\\n   {dedup_parsing_path}\")   \n",
    "    \n",
    "else:\n",
    "    message  = f\"\\nPlease check that {bp.SCOPUS} database is correctely labelled \"\n",
    "    message += f\"in your config json file:\\n    ~\\Appdata\\Roaming\\BiblioParsing\\BiblioParsing_config.json\"\n",
    "    print(message)"
   ]
  },
  {
   "cell_type": "code",
   "execution_count": 10,
   "id": "d79ad237-e8ba-4b0f-97e9-36876fa1ac0e",
   "metadata": {},
   "outputs": [
    {
     "name": "stdout",
     "output_type": "stream",
     "text": [
      "\n",
      " All results saved\n"
     ]
    }
   ],
   "source": [
    "# Example of parsing Scopus and WoS rawdata after:\n",
    "# - building the architecture of the working folder in the user's path home \n",
    "# - and setting the paths to the rawdata extracted from the databases for parsing demo.\n",
    "# Then, concatenating and deduplicating the parsings.\n",
    "# Finally, saving the parsing results in the working folder using filenames defined in the json file:\n",
    "#   \"~\\Appdata\\Roaming\\BiblioParsing\\BiblioParsing_config.json\" \n",
    "\n",
    "# Standard library imports\n",
    "from pathlib import Path\n",
    "\n",
    "# Local library imports\n",
    "import BiblioParsing as bp\n",
    "\n",
    "# Getting the working folder architecture \n",
    "parsing_folder_dict    = bp.DEMO_GLOBAL['PARSING_FOLDER_ARCHI']\n",
    "\n",
    "# Setting the corpus year\n",
    "year = \"2021\"\n",
    "\n",
    "# Setting useful paths for demo\n",
    "root_path = Path.home()\n",
    "\n",
    "# Building the working folder architecture and getting useful paths\n",
    "rawdata_path_dict, parsing_path_dict = bp.build_files_paths(year, parsing_folder_dict, root_path)\n",
    "\n",
    "# Setting the rawdata path for Scopus and WoS if part of the databases to parse \n",
    "db_raw_dict = {}\n",
    "db_raw_dict[bp.SCOPUS] = rawdata_path_dict[bp.SCOPUS]\n",
    "db_raw_dict[bp.WOS]    = rawdata_path_dict[bp.WOS]\n",
    "\n",
    "# Parsing rawdata of Scopus and WoS database, then concatenate and deduplicate the results\n",
    "parsing_dicts_dict, fails_dicts = bp.parse_to_dedup(year, db_raw_dict, verbose = True)\n",
    "\n",
    "# Getting the filenames for each parsing item\n",
    "parsing_filenames_dict = bp.DEMO_GLOBAL['PARSING_FILE_NAMES']\n",
    "item_filename_dict     = bp.build_item_filename_dict(parsing_filenames_dict)\n",
    "\n",
    "tsv_extent = \"dat\"\n",
    "message = save_parsing_dicts(parsing_dicts_dict, parsing_path_dict, item_filename_dict, tsv_extent)\n",
    "print(\"\\n\", message)"
   ]
  },
  {
   "cell_type": "code",
   "execution_count": null,
   "id": "d89daf90-a9d5-45c5-8710-1f16e5a43b01",
   "metadata": {},
   "outputs": [],
   "source": []
  }
 ],
 "metadata": {
  "kernelspec": {
   "display_name": "BiblioParsing_ker",
   "language": "python",
   "name": "biblioparsing_ker"
  },
  "language_info": {
   "codemirror_mode": {
    "name": "ipython",
    "version": 3
   },
   "file_extension": ".py",
   "mimetype": "text/x-python",
   "name": "python",
   "nbconvert_exporter": "python",
   "pygments_lexer": "ipython3",
   "version": "3.9.7"
  }
 },
 "nbformat": 4,
 "nbformat_minor": 5
}
