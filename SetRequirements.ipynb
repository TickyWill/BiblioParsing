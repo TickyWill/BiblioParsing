{
 "cells": [
  {
   "cell_type": "markdown",
   "id": "f8a0d0cc-eccb-45e5-b4b7-71661aa6266a",
   "metadata": {},
   "source": [
    "# Pip install specific to the package\n",
    "- pip install Levenshtein==0.23.0\n",
    "- pip install nltk==3.8.1 (3.6.5)\n",
    "- pip install numpy==1.26.3 (1.21.4)\n",
    "- pip install openpyxl==3.1.2 (3.0.9)\n",
    "- pip install pandas==2.1.4 (1.3.3)\n",
    "- pip install thefuzz==0.20.0"
   ]
  },
  {
   "cell_type": "code",
   "execution_count": null,
   "id": "36ce9c79-589e-474f-9496-0a5ca0f4b67e",
   "metadata": {},
   "outputs": [],
   "source": []
  }
 ],
 "metadata": {
  "kernelspec": {
   "display_name": "BiblioParsing_ker",
   "language": "python",
   "name": "biblioparsing_ker"
  },
  "language_info": {
   "name": ""
  }
 },
 "nbformat": 4,
 "nbformat_minor": 5
}
