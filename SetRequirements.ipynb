{
 "cells": [
  {
   "cell_type": "markdown",
   "id": "f8a0d0cc-eccb-45e5-b4b7-71661aa6266a",
   "metadata": {},
   "source": [
    "# Pip install specific to the package\n",
    "- python -m venv venv\n",
    "- cd venv\n",
    "- source bin/activate\n",
    "- /Users/amal/PyVenv/BiblioParsing/venv/bin/python3 -m pip install --upgrade pip\n",
    "- pip install nltk==3.8.1\n",
    "- pip install openpyxl==3.1.2 (3.0.9)\n",
    "- pip install pandas==2.1.4 (1.3.3)\n",
    "- pip freeze > /Users/amal/PyVenv/BiblioParsing/requirements.txt"
   ]
  },
  {
   "cell_type": "markdown",
   "id": "7beca836-ef6d-4936-acfe-33d266fcef47",
   "metadata": {},
   "source": [
    "# Pip install for package building and test using demo jupyter\n",
    "- pip install XlsxWriter==3.1.9 ( to remove for just demo without xslx saving)\n",
    "- pip install ipykernel==6.28.0\n",
    "- python -m ipykernel install --user --name=BiblioParsing_ker\n",
    "\n",
    "- pip install wheel\n",
    "- cd .. (To be in the folder where is the setup.py of BiblioParsing)\n",
    "- python setup.py bdist_wheel sdist"
   ]
  },
  {
   "cell_type": "code",
   "execution_count": null,
   "id": "3e888de6-f587-4821-a408-91580209f358",
   "metadata": {},
   "outputs": [],
   "source": []
  }
 ],
 "metadata": {
  "kernelspec": {
   "display_name": "BiblioParsing_ker",
   "language": "python",
   "name": "biblioparsing_ker"
  },
  "language_info": {
   "codemirror_mode": {
    "name": "ipython",
    "version": 3
   },
   "file_extension": ".py",
   "mimetype": "text/x-python",
   "name": "python",
   "nbconvert_exporter": "python",
   "pygments_lexer": "ipython3",
   "version": "3.9.7"
  }
 },
 "nbformat": 4,
 "nbformat_minor": 5
}
